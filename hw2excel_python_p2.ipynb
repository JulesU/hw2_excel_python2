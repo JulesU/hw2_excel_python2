{
 "cells": [
  {
   "cell_type": "markdown",
   "metadata": {
    "Collapsed": "false"
   },
   "source": [
    "# HW 2 Excel with Python Part 2\n",
    "\n",
    "Wrangling .csv files using Python"
   ]
  },
  {
   "cell_type": "markdown",
   "metadata": {
    "Collapsed": "false"
   },
   "source": [
    "## Preliminaries"
   ]
  },
  {
   "cell_type": "code",
   "execution_count": 1,
   "metadata": {
    "Collapsed": "false"
   },
   "outputs": [],
   "source": [
    "# To auto-reload modules in jupyter notebook (so that changes in files *.py doesn't require manual reloading):\n",
    "# https://stackoverflow.com/questions/5364050/reloading-submodules-in-ipython\n",
    "%load_ext autoreload\n",
    "%autoreload 2"
   ]
  },
  {
   "cell_type": "markdown",
   "metadata": {
    "Collapsed": "false"
   },
   "source": [
    "Import commonly used libraries and magic command for inline plotting"
   ]
  },
  {
   "cell_type": "code",
   "execution_count": 2,
   "metadata": {
    "Collapsed": "false"
   },
   "outputs": [],
   "source": [
    "import pandas as pd\n",
    "from glob import glob\n",
    "import glob\n",
    "from openpyxl import Workbook\n",
    "import openpyxl \n",
    "from openpyxl import load_workbook\n",
    "import shutil\n",
    "from pathlib import Path\n",
    "from openpyxl.utils.dataframe import dataframe_to_rows"
   ]
  },
  {
   "cell_type": "code",
   "execution_count": 3,
   "metadata": {},
   "outputs": [],
   "source": [
    "%matplotlib inline"
   ]
  },
  {
   "attachments": {},
   "cell_type": "markdown",
   "metadata": {
    "Collapsed": "false"
   },
   "source": [
    "### Create blank Excel file\n",
    "\n",
    "Create blank Excel file named BCM.xlsx using the openpyxl library and Python"
   ]
  },
  {
   "cell_type": "code",
   "execution_count": 15,
   "metadata": {},
   "outputs": [],
   "source": [
    "# Create excel file using openpyxl Workbook library\n",
    "wb = Workbook()\n",
    "\n",
    "# Save workbook with BCM filename\n",
    "wb.save(\"output/BCM.xlsx\")"
   ]
  },
  {
   "attachments": {},
   "cell_type": "markdown",
   "metadata": {
    "Collapsed": "false"
   },
   "source": [
    "### Insert csv File Contents into new sheet in BCM file\n",
    "\n",
    "For this I used pandas and pathlib. I also used file globbing and a loop and kept a list of the csv files to use in the next formula block."
   ]
  },
  {
   "cell_type": "code",
   "execution_count": 16,
   "metadata": {},
   "outputs": [
    {
     "name": "stdout",
     "output_type": "stream",
     "text": [
      "['BCM-N-tCenter-Medium', 'BCM-E-tLeft-Deep', 'BCM-E-tRight-Medium', 'BCM-E-tRight-Deep', 'BCM-N-tLeft-Deep', 'BCM-E-tCenter-Medium', 'BCM-E-tCenter-Shallow', 'BCM-N-tRight-Shallow', 'BCM-N-tRight-Medium', 'BCM-E-tCenter-Deep', 'BCM-N-tRight-Deep', 'BCM-N-tLeft-Medium', 'BCM-N-tCenter-Deep', 'BCM-E-tLeft-Medium']\n"
     ]
    }
   ],
   "source": [
    "# Set the input csv folder and Excel output file paths\n",
    "csvs_path = Path.cwd() / 'data' \n",
    "excel_path = Path.cwd() / 'output' / 'BCM.xlsx'\n",
    "\n",
    "# create some variables of files and other parameters\n",
    "filename = 'output/BCM.xlsx' \n",
    "separator =','\n",
    "# create list of csv filenames= sheets for formula block below\n",
    "sheet_list = []\n",
    "\n",
    "# Use ExcelWriter to add all CSVs as separate sheets with sheet name = csv filename  \n",
    "# Loop over all the csv files to add each csv file data to each Excel sheet  \n",
    "with pd.ExcelWriter(excel_path, engine='openpyxl', mode='a') as writer:\n",
    "    for csv_file in csvs_path.glob('*.csv'):\n",
    "        sheet_name = csv_file.stem[:]  # current excel sheet name \n",
    "        sheet_list.append(sheet_name)  # create list of csv files for later\n",
    "\n",
    "        # Create dataframe of data in current csv - add headers with 'names', capture first 3 cols\n",
    "        # parsing the first column with pandas date_format but doesn't end up keeping time\n",
    "        df = pd.read_csv(\n",
    "            csv_file,\n",
    "            sep=',',\n",
    "            parse_dates = [0], \n",
    "            date_format = '%Y-%m-%d-%H-%M',\n",
    "            encoding='utf-8',\n",
    "            index_col=0,\n",
    "            usecols=[0, 1, 2],\n",
    "            header=None,\n",
    "            names=['datetime', 'scale', 'temperature']\n",
    "        )\n",
    "        # print(sheet_name) # used for testing\n",
    "        # print(df) # used to check contents of dataframes in testing\n",
    "        \n",
    "        # add dataframe to current excel sheet\n",
    "        df.to_excel(writer, sheet_name=sheet_name, index=True)\n",
    "\n",
    "        # save excel output file before next loop\n",
    "        wb.save(excel_path)\n",
    "        \n",
    "# Only remove default sheet if there are other sheets\n",
    "if 'Sheet' in wb.sheetnames and len(wb.sheetnames) > 1:\n",
    "    del wb['Sheet']\n",
    "        \n",
    "print(sheet_list)"
   ]
  },
  {
   "attachments": {},
   "cell_type": "markdown",
   "metadata": {},
   "source": [
    "### Add Formulas to Each Sheet\n",
    "\n",
    "a.\tReopened the modified Excel file with openpyxl.\n",
    "b.\tLoop over the appropriate sheets and create the formulas and adjacent labels.\n",
    "c.\tThe openpyxl Tutorial at https://openpyxl.readthedocs.io/en/stable/tutorial.html has some useful information.\n",
    "d.\tSave the Excel file.\n",
    "\n",
    "add some simple formulas to each sheet showing the minimum, maximum, and average of the temperature values. The labels should be in G2:G4 and the formulas in H2:H4. Notice, they want actual Excel formulas in H2:H4, not just computed values. Here’s a screenshot to make this clearer. Notice the nice cell formatting in column H. In addition, compute the minimum and maximum of the datetime field in rows 6 and 7."
   ]
  },
  {
   "cell_type": "code",
   "execution_count": 18,
   "metadata": {},
   "outputs": [],
   "source": [
    "# Add labels and formulas to each sheet\n",
    "\n",
    "# Load the workbook and delete first empty sheet\n",
    "wb = load_workbook(filename)\n",
    "\n",
    "# Only remove default sheet if there are other sheets\n",
    "if 'Sheet' in wb.sheetnames and len(wb.sheetnames) > 1:\n",
    "    del wb['Sheet']\n",
    "        \n",
    "# Loop through each worksheet and add labels and formulas for each sheet\n",
    "for sheet_name in wb.sheetnames:\n",
    "    ws = wb[sheet_name]\n",
    "\n",
    "    # Add labels to G2: G7 for min, mean, and max temps, and min and max dates\n",
    "    ws['G2'] = 'min_temp'\n",
    "    ws['G3'] = 'max_temp'\n",
    "    ws['G4'] = 'mean_temp'\n",
    "    ws['G6'] = 'min_date'\n",
    "    ws['G7'] = 'max_date'\n",
    "\n",
    "    # Find max row to know how many rows to sum in next formulas\n",
    "    last_row = ws.max_row\n",
    " \n",
    "    # Add formulas to H2:H4 using Excel formulas\n",
    "    ws['H2'] = f\"=min(C2:C{last_row})\"\n",
    "    ws['H3'] = f\"=max(C2:C{last_row})\"\n",
    "    ws['H4'] = f\"=average(C2:C{last_row})\"\n",
    "\n",
    "    # Convert 'date/time' in string to date / time value for computation, then format as date/time \n",
    "    # unfortunately time element isn't working as desired even though read in and parsed as such\n",
    "    # in block above. I think it's because it replaced the index column.\n",
    "    ws['H6'] = f\"=min(datevalue(A2:A{last_row}))\"\n",
    "    ws['H6'].number_format = 'yyyy-mm-dd hh:mm'\n",
    "    ws['H7'] = f\"=max(datevalue(A2:A{last_row}))\"\n",
    "    ws['H7'].number_format = 'yyyy-mm-dd hh:mm'\n",
    " \n",
    "wb.save(filename)\n",
    " "
   ]
  },
  {
   "attachments": {},
   "cell_type": "markdown",
   "metadata": {},
   "source": [
    "### Hints\n",
    "\n",
    "Used these above in coding for capturing file path, creating excel file, reading csv, using workbook and sheets. \n",
    "a.\tThe pathlib library is very useful for working with paths and filenames.\n",
    "b.\tRemember, cell addresses and even cell formulas are just strings. Python f-strings are quite handy for building strings based on variable values.\n",
    "c.\tThere’s a very simple way to determine the row number of the last row of data in a file using openpyxl.\n",
    "d.\tIn openpyxl, many collections (such as worksheets) are just Python lists.\n",
    "e.\tYou must heavily comment your code to explain what you are doing."
   ]
  },
  {
   "cell_type": "code",
   "execution_count": null,
   "metadata": {},
   "outputs": [],
   "source": []
  }
 ],
 "metadata": {
  "kernelspec": {
   "display_name": "aap",
   "language": "python",
   "name": "aap"
  },
  "language_info": {
   "codemirror_mode": {
    "name": "ipython",
    "version": 3
   },
   "file_extension": ".py",
   "mimetype": "text/x-python",
   "name": "python",
   "nbconvert_exporter": "python",
   "pygments_lexer": "ipython3",
   "version": "3.12.2"
  },
  "toc-autonumbering": true
 },
 "nbformat": 4,
 "nbformat_minor": 4
}
